{
 "cells": [
  {
   "cell_type": "code",
   "execution_count": 14,
   "metadata": {},
   "outputs": [],
   "source": [
    "import re\n",
    "from tika import parser\n",
    "from os import listdir\n",
    "from os.path import isfile, join\n",
    "import os\n",
    "import pandas as pd\n",
    "from datetime import date"
   ]
  },
  {
   "cell_type": "code",
   "execution_count": 15,
   "metadata": {},
   "outputs": [],
   "source": [
    "source_folder = \"../data/pdf/\"\n",
    "output_folder = \"../data/\""
   ]
  },
  {
   "cell_type": "code",
   "execution_count": 16,
   "metadata": {},
   "outputs": [],
   "source": [
    "# 폴더내 pdf파일을 파싱하여 Excel 형태로 저장\n",
    "def pdf2txt (source_folder, output_folder) :\n",
    "    # 지정 폴더 내 파일 목록 조회 (파일만)\n",
    "    pdf_files = [f for f in listdir(source_folder) if isfile(join(source_folder, f))]\n",
    "    \n",
    "    result = []\n",
    "    for pdf in pdf_files :\n",
    "        time = pdf.split('(')\n",
    "        time = time[2][:-5]\n",
    "        \n",
    "        pdf_filepath = source_folder + pdf\n",
    "        # pdf 파일을 text로 변환\n",
    "        parsedText = parser.from_file(pdf_filepath)[\"content\"]\n",
    "        new_dict = {\n",
    "            'time' : time,\n",
    "            'text' : parsedText\n",
    "        }\n",
    "        result.append(new_dict)\n",
    "\n",
    "    df = pd.DataFrame(result)\n",
    "\n",
    "    temp_name = f\"금통위의사록(텍스트파일).xlsx\"\n",
    "    txt_name = os.path.join(output_folder, temp_name)\n",
    "    excel_writer = pd.ExcelWriter(txt_name, engine = 'xlsxwriter')\n",
    "\n",
    "    df.to_excel(excel_writer)\n",
    "\n",
    "    excel_writer.save()\n",
    "    \n",
    "pdf2txt(source_folder, output_folder)"
   ]
  }
 ],
 "metadata": {
  "kernelspec": {
   "display_name": "Python 3",
   "language": "python",
   "name": "python3"
  },
  "language_info": {
   "codemirror_mode": {
    "name": "ipython",
    "version": 3
   },
   "file_extension": ".py",
   "mimetype": "text/x-python",
   "name": "python",
   "nbconvert_exporter": "python",
   "pygments_lexer": "ipython3",
   "version": "3.8.12"
  }
 },
 "nbformat": 4,
 "nbformat_minor": 2
}
